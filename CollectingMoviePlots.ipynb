{
 "cells": [
  {
   "cell_type": "code",
   "execution_count": 7,
   "id": "f1033c08",
   "metadata": {},
   "outputs": [],
   "source": [
    "import requests\n",
    "import time\n",
    "from bs4 import BeautifulSoup\n",
    "import re\n",
    "from tqdm import notebook\n",
    "from collections import defaultdict\n",
    "\n",
    "def get_plot(movie_url):\n",
    "    response = requests.get(\"https://en.wikipedia.org\"+movie_url)\n",
    "    if response.status_code != 200:\n",
    "        #print(response)\n",
    "        return \"\"\n",
    "    soup = BeautifulSoup(response.content, 'html.parser')\n",
    "    plot = \"\"\n",
    "    for tag in soup.find_all('h2'):\n",
    "        if 'Plot' in tag.get_text() or 'Premise' in tag.get_text() or 'Synopsis' in tag.get_text() or 'Storyline' in tag.get_text():\n",
    "            for sibling in tag.next_siblings:\n",
    "                if sibling.name == 'p':\n",
    "                    chk = re.sub('\\[\\d+\\]', '', str(sibling.get_text()).strip())\n",
    "                    plot += chk+ \"\\n\"\n",
    "                elif sibling.name == 'h2':\n",
    "                    break\n",
    "            break\n",
    "    return plot"
   ]
  },
  {
   "cell_type": "code",
   "execution_count": 42,
   "id": "6ff8a38e",
   "metadata": {},
   "outputs": [],
   "source": [
    "def get_british_movie_list(year):\n",
    "    response = requests.get(f\"https://en.wikipedia.org/wiki/List_of_British_films_of_{year}\")\n",
    "    if response.status_code != 200:\n",
    "        print(country, year)\n",
    "        return \"\"\n",
    "    soup = BeautifulSoup(response.content, 'html.parser')\n",
    "    tables = soup.find_all(\"table\")\n",
    "    movie_list = []\n",
    "\n",
    "    for tag in soup.find_all('h3'):\n",
    "        if 'major releases' in tag.get_text().lower() or 'film premieres' in tag.get_text().lower():\n",
    "            for sibling in tag.next_siblings:\n",
    "                if sibling.name == 'table':\n",
    "                    rows = sibling.find(\"tbody\").find_all(\"tr\")\n",
    "                    for index, row in enumerate(rows):\n",
    "                        for col in row.find_all('td'):\n",
    "                            if not col.get_text().strip().isdigit():\n",
    "                                if col.find('a', href=True):\n",
    "                                    movie_list.append(col.find('a', href=True)['href'])\n",
    "                                break\n",
    "                elif sibling.name == 'h2':\n",
    "                    break\n",
    "    return movie_list"
   ]
  },
  {
   "cell_type": "code",
   "execution_count": 9,
   "id": "1dbd1630",
   "metadata": {},
   "outputs": [],
   "source": [
    "def check_month(title):\n",
    "    if not title:\n",
    "        return False\n",
    "    for mon in ['Jan', 'Feb','Mar', 'Apr', 'May', 'June', 'July', 'Aug', 'Sept', 'Oct', 'Nov', 'Dec']:\n",
    "        if mon in title:\n",
    "            return True\n",
    "    return False"
   ]
  },
  {
   "cell_type": "code",
   "execution_count": 50,
   "id": "4162d4d6",
   "metadata": {},
   "outputs": [],
   "source": [
    "def get_movie_list(country, year):\n",
    "    response = requests.get(f\"https://en.wikipedia.org/wiki/List_of_{country}_films_of_{year}\")\n",
    "    if response.status_code != 200:\n",
    "        print(country, year)\n",
    "        \n",
    "        return \"\"\n",
    "    soup = BeautifulSoup(response.content, 'html.parser')\n",
    "    tables = soup.find_all(\"table\")\n",
    "    movie_list = []\n",
    "\n",
    "    for tag in soup.find_all('h3'):\n",
    "        if check_month(tag.get_text()):\n",
    "            for sibling in tag.next_siblings:\n",
    "                if sibling.name == 'table':\n",
    "                    rows = sibling.find(\"tbody\").find_all(\"tr\")\n",
    "                    for row in rows:\n",
    "                        for col in row.find_all('td'):\n",
    "                            if not col.get_text().strip().isdigit() and col.find('a', href=True):\n",
    "                                movie_list.append(col.find('a', href=True)['href'])\n",
    "                                break\n",
    "                elif sibling.name == 'h2':\n",
    "                    break\n",
    "    return movie_list"
   ]
  },
  {
   "cell_type": "code",
   "execution_count": 52,
   "id": "a8b685a1",
   "metadata": {},
   "outputs": [],
   "source": [
    "movies_by_year = defaultdict(list)"
   ]
  },
  {
   "cell_type": "code",
   "execution_count": 53,
   "id": "ade7a762",
   "metadata": {},
   "outputs": [
    {
     "data": {
      "application/vnd.jupyter.widget-view+json": {
       "model_id": "6982e16921ff4c2db82694382dc7ed99",
       "version_major": 2,
       "version_minor": 0
      },
      "text/plain": [
       "  0%|          | 0/9 [00:00<?, ?it/s]"
      ]
     },
     "metadata": {},
     "output_type": "display_data"
    },
    {
     "data": {
      "application/vnd.jupyter.widget-view+json": {
       "model_id": "",
       "version_major": 2,
       "version_minor": 0
      },
      "text/plain": [
       "  0%|          | 0/364 [00:00<?, ?it/s]"
      ]
     },
     "metadata": {},
     "output_type": "display_data"
    },
    {
     "data": {
      "application/vnd.jupyter.widget-view+json": {
       "model_id": "",
       "version_major": 2,
       "version_minor": 0
      },
      "text/plain": [
       "  0%|          | 0/312 [00:00<?, ?it/s]"
      ]
     },
     "metadata": {},
     "output_type": "display_data"
    },
    {
     "data": {
      "application/vnd.jupyter.widget-view+json": {
       "model_id": "",
       "version_major": 2,
       "version_minor": 0
      },
      "text/plain": [
       "  0%|          | 0/282 [00:00<?, ?it/s]"
      ]
     },
     "metadata": {},
     "output_type": "display_data"
    },
    {
     "data": {
      "application/vnd.jupyter.widget-view+json": {
       "model_id": "",
       "version_major": 2,
       "version_minor": 0
      },
      "text/plain": [
       "  0%|          | 0/265 [00:00<?, ?it/s]"
      ]
     },
     "metadata": {},
     "output_type": "display_data"
    },
    {
     "data": {
      "application/vnd.jupyter.widget-view+json": {
       "model_id": "",
       "version_major": 2,
       "version_minor": 0
      },
      "text/plain": [
       "  0%|          | 0/502 [00:00<?, ?it/s]"
      ]
     },
     "metadata": {},
     "output_type": "display_data"
    },
    {
     "data": {
      "application/vnd.jupyter.widget-view+json": {
       "model_id": "",
       "version_major": 2,
       "version_minor": 0
      },
      "text/plain": [
       "0it [00:00, ?it/s]"
      ]
     },
     "metadata": {},
     "output_type": "display_data"
    },
    {
     "data": {
      "application/vnd.jupyter.widget-view+json": {
       "model_id": "",
       "version_major": 2,
       "version_minor": 0
      },
      "text/plain": [
       "  0%|          | 0/437 [00:00<?, ?it/s]"
      ]
     },
     "metadata": {},
     "output_type": "display_data"
    },
    {
     "data": {
      "application/vnd.jupyter.widget-view+json": {
       "model_id": "",
       "version_major": 2,
       "version_minor": 0
      },
      "text/plain": [
       "  0%|          | 0/242 [00:00<?, ?it/s]"
      ]
     },
     "metadata": {},
     "output_type": "display_data"
    },
    {
     "data": {
      "application/vnd.jupyter.widget-view+json": {
       "model_id": "",
       "version_major": 2,
       "version_minor": 0
      },
      "text/plain": [
       "  0%|          | 0/453 [00:00<?, ?it/s]"
      ]
     },
     "metadata": {},
     "output_type": "display_data"
    }
   ],
   "source": [
    "for year in notebook.tqdm(range(2013, 2022)):\n",
    "    movie_list = get_movie_list(\"Tamil\", year)\n",
    "    movies_by_year[year] = list()\n",
    "    for movie in notebook.tqdm(movie_list, leave=False):\n",
    "        movie_plot = get_plot(movie)\n",
    "        if movie_plot!= '':\n",
    "            movies_by_year[year].append(movie_plot)"
   ]
  },
  {
   "cell_type": "code",
   "execution_count": 55,
   "id": "cec1db40",
   "metadata": {},
   "outputs": [],
   "source": [
    "import json\n",
    "with open(\"Tamil_plot_summaries_by_year.json\", 'w') as f:\n",
    "    json.dump(movies_by_year, f)"
   ]
  }
 ],
 "metadata": {
  "kernelspec": {
   "display_name": "Python 3 (ipykernel)",
   "language": "python",
   "name": "python3"
  },
  "language_info": {
   "codemirror_mode": {
    "name": "ipython",
    "version": 3
   },
   "file_extension": ".py",
   "mimetype": "text/x-python",
   "name": "python",
   "nbconvert_exporter": "python",
   "pygments_lexer": "ipython3",
   "version": "3.7.3"
  }
 },
 "nbformat": 4,
 "nbformat_minor": 5
}
