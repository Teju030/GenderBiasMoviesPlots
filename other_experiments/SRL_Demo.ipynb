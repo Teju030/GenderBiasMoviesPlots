{
 "cells": [
  {
   "cell_type": "code",
   "execution_count": 63,
   "metadata": {},
   "outputs": [],
   "source": [
    "from transformer_srl import dataset_readers, models, predictors\n",
    "from collections import OrderedDict\n",
    "from nltk.corpus import stopwords\n",
    "from nltk.tokenize import word_tokenize\n",
    "from nltk.stem import WordNetLemmatizer"
   ]
  },
  {
   "cell_type": "code",
   "execution_count": null,
   "metadata": {},
   "outputs": [],
   "source": [
    "stopwords = stopwords.words('english')\n",
    "lemmatizer = WordNetLemmatizer()"
   ]
  },
  {
   "cell_type": "code",
   "execution_count": null,
   "metadata": {},
   "outputs": [],
   "source": [
    "predictor  = predictors.SrlTransformersPredictor.from_path(\"/home/jessica/Downloads/srl_bert_base_conll2012.tar.gz\", \"transformer_srl\", cuda_device=-1)  "
   ]
  },
  {
   "cell_type": "code",
   "execution_count": 75,
   "metadata": {},
   "outputs": [],
   "source": [
    "def get_event_chain(predictor, sentence):\n",
    "    srl_output = predictor.predict(sentence=sentence)\n",
    "    sentence_tokens = srl_output['words']\n",
    "    \n",
    "    event_chain = OrderedDict()\n",
    "    #print(srl_output)\n",
    "    for count, verb in enumerate(srl_output['verbs']):        \n",
    "        tags = verb['tags']\n",
    "        tag_name = f\"{count}_{verb['verb']}\"\n",
    "        event_chain[tag_name] = list()\n",
    "        for index, tag in enumerate(tags):\n",
    "            if 'ARG' in tag:\n",
    "                event_chain[tag_name].append(f\"{sentence_tokens[index]}/{tag}\")\n",
    "                \n",
    "    return event_chain"
   ]
  },
  {
   "cell_type": "code",
   "execution_count": 76,
   "metadata": {},
   "outputs": [],
   "source": [
    "def clean_data(text):\n",
    "    tokens_without_sw = [word for word in text.split() if not word in stopwords]\n",
    "    new_sent = ' '.join(tokens_without_sw)\n",
    "    return new_sent\n",
    "    "
   ]
  },
  {
   "cell_type": "code",
   "execution_count": 77,
   "metadata": {},
   "outputs": [
    {
     "data": {
      "text/plain": [
       "OrderedDict([('0_married', ['Mary/B-ARG1', 'and/I-ARG1', 'Jacob/I-ARG1']),\n",
       "             ('1_had', ['Mary/B-ARG0', 'a/B-ARG1', 'baby/I-ARG1']),\n",
       "             ('2_took',\n",
       "              ['Mary/B-ARG0', 'care/B-ARG1', 'of/B-ARG2', 'it/I-ARG2']),\n",
       "             ('3_got',\n",
       "              ['However/B-ARGM-DIS',\n",
       "               'Jacob/B-ARG0',\n",
       "               'a/B-ARG1',\n",
       "               'job/I-ARG1'])])"
      ]
     },
     "execution_count": 77,
     "metadata": {},
     "output_type": "execute_result"
    }
   ],
   "source": [
    "test_sentence = \"Mary and Jacob married. Mary had a baby and took care of it. However, Jacob got a job.\"\n",
    "get_event_chain(predictor, test_sentence)"
   ]
  },
  {
   "cell_type": "code",
   "execution_count": 81,
   "metadata": {},
   "outputs": [
    {
     "data": {
      "text/plain": [
       "OrderedDict([('0_teaches',\n",
       "              ['Mary/B-ARG0',\n",
       "               ',/I-ARG0',\n",
       "               'beautiful/I-ARG0',\n",
       "               'young/I-ARG0',\n",
       "               'lady/I-ARG0',\n",
       "               'high/B-ARG1',\n",
       "               'school/I-ARG1']),\n",
       "             ('1_loves', ['She/B-ARG0', 'job/B-ARG1']),\n",
       "             ('2_meet',\n",
       "              ['While/B-ARGM-TMP',\n",
       "               'trip/I-ARGM-TMP',\n",
       "               'handsome/B-ARG1',\n",
       "               'young/I-ARG1',\n",
       "               'man/I-ARG1',\n",
       "               'doctor/I-ARG1']),\n",
       "             ('3_fall', ['They/B-ARG1', 'love/B-ARG2']),\n",
       "             ('4_get', ['They/B-ARG1', 'married/B-ARG2']),\n",
       "             ('5_leaves',\n",
       "              ['Eventually/B-ARGM-TMP',\n",
       "               'Mary/B-ARG0',\n",
       "               'job/B-ARG1',\n",
       "               'take/I-ARG1']),\n",
       "             ('6_take', ['Mary/B-ARG0', 'care/B-ARG2', 'house/I-ARG2']),\n",
       "             ('7_makes', ['Mary/B-ARG0', 'sad/B-ARG1', 'depressed/I-ARG1'])])"
      ]
     },
     "execution_count": 81,
     "metadata": {},
     "output_type": "execute_result"
    }
   ],
   "source": [
    "test_sentence = \"Mary, a beautiful young lady, teaches at a high school. She loves her job. While on a trip, she meet an handsome young man who is a doctor. They fall in love and get married. Eventually, Mary leaves her job to take care of the house which makes her very sad and depressed \"\n",
    "get_event_chain(predictor, clean_data(test_sentence))"
   ]
  },
  {
   "cell_type": "code",
   "execution_count": 78,
   "metadata": {},
   "outputs": [],
   "source": [
    "movie_plot = \"\"\"\n",
    "Kabir Rajdheer Singh, a house surgeon at the Delhi Institute of Medical Sciences, suffers from severe anger management problems that gain him the reputation of a bully.\\n\n",
    "After a brawl, Kabir is asked to either apologise or leave; he chooses to leave but stays upon seeing a new student, Preeti Sikka.\\n\n",
    "Later, Kabir and his friends announce that he has exclusively claimed Preeti. \\n\n",
    "Initially timid, she adjusts to his overbearing attitude and eventually reciprocates his feelings, developing an intimate relationship. \\n\n",
    "Kabir graduates with an MBBS degree and moves to Mussoorie for post-graduation. \\n\n",
    "Despite the distance, their relationship strengthens over the next few years. \\n\n",
    "After Preeti graduates, he meets her conservative parents, but her father Harpal catches them kissing and throws him out. \\n\n",
    "Harpal continues to oppose their relationship, despite Kabir's attempts to explain their love. \\n\n",
    "Enraged, Kabir asks Preeti to choose between him and her family within the next six hours, or he will end their relationship. \\n\n",
    "Preeti fails to reach back to him in time; feeling abandoned, Kabir injects himself with morphine and remains unconscious for the next two days. \\n\n",
    "On gaining consciousness, he learns that Preeti is being forced into an arranged marriage and gate crashes the wedding party; Harpal has him beaten and arrested. \\n\n",
    "After Kabir is released, his father, Rajdheer, ostracises him from the family for his antics. \\n\n",
    "With his friend Shiva’s help, Kabir finds a rented flat and joins a private hospital as a surgeon. \\n\n",
    "To cope with his emotions, he abuses drugs and alcohol, attempts one-night stands, has casual relationships, buys a pet dog — none of which are successful. \\n\n",
    "Within months, he becomes a successful surgeon and a high-functioning alcoholic both respected and feared by the hospital staff. \\n\n",
    "His self-destructive behaviour and obsession worry his friends. \\n\n",
    "While hungover on a day-off, Kabir is called in to perform an emergency surgery for which he unwillingly agrees. \\n\"\"\""
   ]
  },
  {
   "cell_type": "code",
   "execution_count": 79,
   "metadata": {},
   "outputs": [
    {
     "name": "stdout",
     "output_type": "stream",
     "text": [
      "OrderedDict([('0_suffers', ['Kabir/B-ARG0', 'Rajdheer/I-ARG0', 'Singh/I-ARG0', ',/I-ARG0', 'house/I-ARG0', 'surgeon/I-ARG0', 'Delhi/I-ARG0', 'Institute/I-ARG0', 'Medical/I-ARG0', 'Sciences/I-ARG0', ',/I-ARG0', 'severe/B-ARG1', 'anger/I-ARG1', 'management/I-ARG1', 'problems/I-ARG1', 'gain/I-ARG1', 'reputation/I-ARG1', 'bully/I-ARG1']), ('1_gain', ['Kabir/B-ARG0', 'Rajdheer/I-ARG0', 'Singh/I-ARG0', ',/I-ARG0', 'house/I-ARG0', 'surgeon/I-ARG0', 'Delhi/I-ARG0', 'Institute/I-ARG0', 'Medical/I-ARG0', 'Sciences/I-ARG0', 'reputation/B-ARG1', 'bully/I-ARG1'])]) \n",
      "\n",
      "\n",
      "OrderedDict([('0_asked', ['After/B-ARGM-TMP', 'brawl/I-ARGM-TMP', 'Kabir/B-ARG0', 'either/B-ARG1', 'apologise/I-ARG1', 'leave/I-ARG1']), ('1_leave', []), ('2_seeing', ['new/B-ARG1', 'student/I-ARG1', ',/I-ARG1', 'Preeti/I-ARG1', 'Sikka/I-ARG1'])]) \n",
      "\n",
      "\n",
      "OrderedDict([('0_announce', ['Later/B-ARGM-TMP', 'Kabir/B-ARG0', 'friends/I-ARG0', 'exclusively/B-ARG1']), ('1_claimed', ['Kabir/B-ARG0', 'friends/I-ARG0', 'exclusively/B-ARGM-MNR', 'Preeti/B-ARG1'])]) \n",
      "\n",
      "\n",
      "OrderedDict([('0_reciprocates', ['Initially/B-ARGM-PRD', 'timid/I-ARGM-PRD', 'adjusts/B-ARG0', 'overbearing/I-ARG0', 'attitude/I-ARG0', 'eventually/B-ARGM-TMP', 'feelings/B-ARG1', 'developing/B-ARGM-ADV', 'intimate/I-ARGM-ADV', 'relationship/I-ARGM-ADV']), ('1_developing', ['intimate/B-ARG2', 'relationship/I-ARG2'])]) \n",
      "\n",
      "\n",
      "OrderedDict([('0_graduates', ['Kabir/B-ARG0', 'MBBS/B-ARG1', 'degree/I-ARG1']), ('1_moves', ['Mussoorie/B-ARG1', 'post/B-ARGM-TMP', '-/I-ARGM-TMP', 'graduation/I-ARGM-TMP'])]) \n",
      "\n",
      "\n",
      "OrderedDict([('0_strengthens', ['Despite/B-ARGM-ADV', 'distance/I-ARGM-ADV', 'relationship/B-ARG1', 'next/B-ARGM-TMP', 'years/I-ARGM-TMP'])]) \n",
      "\n",
      "\n",
      "OrderedDict([('0_meets', ['conservative/B-ARG1', 'parents/I-ARG1']), ('1_catches', ['After/B-ARGM-TMP', 'Preeti/I-ARGM-TMP', 'graduates/I-ARGM-TMP', 'father/B-ARG0', 'Harpal/I-ARG0', 'kissing/B-ARG1', 'throws/I-ARG1', 'out/I-ARG1']), ('2_kissing', ['father/B-ARG0', 'Harpal/I-ARG0'])]) \n",
      "\n",
      "\n",
      "OrderedDict([('0_continues', ['Harpal/B-ARG0', 'oppose/B-ARG1', 'relationship/I-ARG1', 'despite/B-ARGM-ADV', 'Kabir/I-ARGM-ADV', \"'s/I-ARGM-ADV\", 'attempts/I-ARGM-ADV', 'explain/I-ARGM-ADV', 'love/I-ARGM-ADV']), ('1_explain', ['Kabir/B-ARG0', \"'s/I-ARG0\", 'attempts/I-ARG0', 'love/B-ARG1'])]) \n",
      "\n",
      "\n",
      "OrderedDict([('0_Enraged', ['Kabir/B-ARG1']), ('1_asks', ['Enraged/B-R-ARG0', 'Kabir/B-ARG0', 'Preeti/B-ARG1', 'choose/I-ARG1', 'family/I-ARG1', 'within/I-ARG1', 'next/I-ARG1', 'six/I-ARG1', 'hours/I-ARG1', ',/I-ARG1', 'end/I-ARG1', 'relationship/I-ARG1']), ('2_choose', ['Preeti/B-ARG0', 'family/B-ARG1', 'within/B-ARGM-TMP', 'next/I-ARGM-TMP', 'six/I-ARGM-TMP', 'hours/I-ARGM-TMP', 'end/B-ARGM-ADV', 'relationship/I-ARGM-ADV'])]) \n",
      "\n",
      "\n",
      "OrderedDict([('0_fails', ['Preeti/B-ARG1', 'reach/B-ARG2', 'back/I-ARG2', 'time/I-ARG2']), ('1_reach', ['Preeti/B-ARG0', 'back/B-ARGM-DIR', 'time/B-ARG1']), ('2_feeling', ['abandoned/B-ARG1', 'Kabir/B-ARG0']), ('3_abandoned', ['Kabir/B-ARG1']), ('4_injects', ['feeling/B-ARGM-PRD', 'abandoned/I-ARGM-PRD', 'Kabir/B-ARG0', 'morphine/B-ARG1']), ('5_remains', ['morphine/B-ARG1', 'unconscious/B-ARG3', 'next/B-ARGM-TMP', 'two/I-ARGM-TMP', 'days/I-ARGM-TMP'])]) \n",
      "\n",
      "\n",
      "OrderedDict([('0_gaining', ['consciousness/B-ARG1']), ('1_learns', ['On/B-ARGM-TMP', 'gaining/I-ARGM-TMP', 'consciousness/I-ARGM-TMP', 'Preeti/B-ARG1', 'forced/I-ARG1', 'arranged/I-ARG1', 'marriage/I-ARG1', 'gate/I-ARG1', 'crashes/I-ARG1', 'wedding/I-ARG1', 'party/I-ARG1']), ('2_forced', ['Preeti/B-ARG0', 'arranged/B-ARG2', 'marriage/I-ARG2']), ('3_crashes', ['arranged/B-ARG2', 'marriage/I-ARG2', 'gate/I-ARG2', 'wedding/B-ARG1', 'party/I-ARG1']), ('4_beaten', ['Harpal/B-ARG1', 'arrested/B-ARGM-PRD']), ('5_arrested', [])]) \n",
      "\n",
      "\n",
      "OrderedDict([('0_released', ['Kabir/B-ARG1']), ('1_ostracises', ['After/B-ARGM-TMP', 'Kabir/I-ARGM-TMP', 'released/I-ARGM-TMP', 'father/B-ARG0', ',/I-ARG0', 'Rajdheer/I-ARG0', 'family/B-ARG1', 'antics/I-ARG1'])]) \n",
      "\n",
      "\n",
      "OrderedDict([('0_finds', ['With/B-ARGM-ADV', 'friend/I-ARGM-ADV', 'Shiva/I-ARGM-ADV', '’s/I-ARGM-ADV', 'help/I-ARGM-ADV', 'Kabir/B-ARG0', 'rented/B-ARG1', 'flat/I-ARG1', 'joins/I-ARG1', 'private/I-ARG1', 'hospital/I-ARG1', 'surgeon/I-ARG1']), ('1_rented', ['flat/B-ARG1'])]) \n",
      "\n",
      "\n",
      "OrderedDict([('0_cope', ['emotions/B-ARG1', 'drugs/B-ARG0']), ('1_abuses', ['To/B-R-ARG0', 'cope/I-R-ARG0', 'emotions/I-R-ARG0', 'drugs/B-ARG1', 'alcohol/I-ARG1']), ('2_attempts', ['To/B-R-ARG0', 'cope/I-R-ARG0', 'emotions/I-R-ARG0', 'one/B-ARG1', '-/I-ARG1', 'night/I-ARG1', 'stands/I-ARG1', ',/I-ARG1', 'casual/I-ARG1', 'relationships/I-ARG1']), ('3_buys', ['To/B-R-ARG0', 'cope/I-R-ARG0', 'pet/B-ARG1', 'dog/I-ARG1', '—/B-ARGM-MNR', 'none/B-ARGM-ADV', 'successful/I-ARGM-ADV'])]) \n",
      "\n",
      "\n",
      "OrderedDict([('0_becomes', ['Within/B-ARGM-TMP', 'months/I-ARGM-TMP', 'successful/B-ARG2', 'surgeon/I-ARG2', 'high/I-ARG2', '-/I-ARG2', 'functioning/I-ARG2', 'alcoholic/I-ARG2', 'respected/I-ARG2', 'feared/I-ARG2', 'hospital/I-ARG2', 'staff/I-ARG2']), ('1_functioning', ['high/B-ARGM-EXT', 'alcoholic/B-ARG0']), ('2_respected', ['feared/B-ARG1', 'hospital/I-ARG1', 'staff/I-ARG1']), ('3_feared', ['hospital/B-ARG1', 'staff/I-ARG1'])]) \n",
      "\n",
      "\n",
      "OrderedDict() \n",
      "\n",
      "\n",
      "OrderedDict([('0_called', ['While/B-ARGM-TMP', 'hungover/I-ARGM-TMP', 'day/I-ARGM-TMP', '-/I-ARGM-TMP', 'off/I-ARGM-TMP', 'Kabir/B-ARG0', 'perform/B-ARG1', 'emergency/I-ARG1', 'surgery/I-ARG1', 'unwillingly/B-ARGM-MNR']), ('1_agrees', ['Kabir/B-ARG0', 'unwillingly/B-ARGM-MNR'])]) \n",
      "\n",
      "\n"
     ]
    }
   ],
   "source": [
    "for sentence in movie_plot.split('\\n'):\n",
    "    if len(sentence)>0:\n",
    "        print(get_event_chain(predictor, clean_data(sentence)), \"\\n\\n\")"
   ]
  }
 ],
 "metadata": {
  "kernelspec": {
   "display_name": "venv_test",
   "language": "python",
   "name": "venv_test"
  },
  "language_info": {
   "codemirror_mode": {
    "name": "ipython",
    "version": 3
   },
   "file_extension": ".py",
   "mimetype": "text/x-python",
   "name": "python",
   "nbconvert_exporter": "python",
   "pygments_lexer": "ipython3",
   "version": "3.6.9"
  }
 },
 "nbformat": 4,
 "nbformat_minor": 5
}
